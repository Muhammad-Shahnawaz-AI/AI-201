{
 "cells": [
  {
   "cell_type": "code",
   "execution_count": 2,
   "id": "20839e2b",
   "metadata": {},
   "outputs": [
    {
     "name": "stdout",
     "output_type": "stream",
     "text": [
      "8\n"
     ]
    }
   ],
   "source": [
    "print(0o10)#octal"
   ]
  },
  {
   "cell_type": "code",
   "execution_count": 3,
   "id": "5154a77d",
   "metadata": {},
   "outputs": [
    {
     "name": "stdout",
     "output_type": "stream",
     "text": [
      "16\n"
     ]
    }
   ],
   "source": [
    "print(0x10)# hexan decimal"
   ]
  },
  {
   "cell_type": "code",
   "execution_count": 4,
   "id": "0e7debbb",
   "metadata": {},
   "outputs": [
    {
     "name": "stdout",
     "output_type": "stream",
     "text": [
      "2\n"
     ]
    }
   ],
   "source": [
    "print(0b10)#binary"
   ]
  },
  {
   "cell_type": "code",
   "execution_count": 5,
   "id": "27526086",
   "metadata": {},
   "outputs": [
    {
     "data": {
      "text/plain": [
       "int"
      ]
     },
     "execution_count": 5,
     "metadata": {},
     "output_type": "execute_result"
    }
   ],
   "source": [
    "type(10)"
   ]
  },
  {
   "cell_type": "code",
   "execution_count": 6,
   "id": "6968ddc7",
   "metadata": {},
   "outputs": [
    {
     "data": {
      "text/plain": [
       "int"
      ]
     },
     "execution_count": 6,
     "metadata": {},
     "output_type": "execute_result"
    }
   ],
   "source": [
    "type(0o10)"
   ]
  },
  {
   "cell_type": "code",
   "execution_count": 7,
   "id": "98e007c5",
   "metadata": {},
   "outputs": [
    {
     "data": {
      "text/plain": [
       "int"
      ]
     },
     "execution_count": 7,
     "metadata": {},
     "output_type": "execute_result"
    }
   ],
   "source": [
    "type(0x10)"
   ]
  },
  {
   "cell_type": "code",
   "execution_count": 8,
   "id": "6003ddd0",
   "metadata": {},
   "outputs": [
    {
     "data": {
      "text/plain": [
       "4.2"
      ]
     },
     "execution_count": 8,
     "metadata": {},
     "output_type": "execute_result"
    }
   ],
   "source": [
    "4.2\n"
   ]
  },
  {
   "cell_type": "code",
   "execution_count": 9,
   "id": "8ad40b57",
   "metadata": {},
   "outputs": [
    {
     "data": {
      "text/plain": [
       "float"
      ]
     },
     "execution_count": 9,
     "metadata": {},
     "output_type": "execute_result"
    }
   ],
   "source": [
    "type(4.2)"
   ]
  },
  {
   "cell_type": "code",
   "execution_count": 10,
   "id": "55573102",
   "metadata": {},
   "outputs": [
    {
     "data": {
      "text/plain": [
       "4.0"
      ]
     },
     "execution_count": 10,
     "metadata": {},
     "output_type": "execute_result"
    }
   ],
   "source": [
    "4."
   ]
  },
  {
   "cell_type": "code",
   "execution_count": 11,
   "id": "4affa710",
   "metadata": {},
   "outputs": [
    {
     "data": {
      "text/plain": [
       "0.2"
      ]
     },
     "execution_count": 11,
     "metadata": {},
     "output_type": "execute_result"
    }
   ],
   "source": [
    "0.2"
   ]
  },
  {
   "cell_type": "code",
   "execution_count": 12,
   "id": "a44fdb05",
   "metadata": {},
   "outputs": [
    {
     "data": {
      "text/plain": [
       "4000000.0"
      ]
     },
     "execution_count": 12,
     "metadata": {},
     "output_type": "execute_result"
    }
   ],
   "source": [
    ".4e7"
   ]
  },
  {
   "cell_type": "code",
   "execution_count": 13,
   "id": "c43a2417",
   "metadata": {},
   "outputs": [
    {
     "data": {
      "text/plain": [
       "float"
      ]
     },
     "execution_count": 13,
     "metadata": {},
     "output_type": "execute_result"
    }
   ],
   "source": [
    "type(.4e7)"
   ]
  },
  {
   "cell_type": "code",
   "execution_count": 14,
   "id": "d2e72b90",
   "metadata": {},
   "outputs": [
    {
     "data": {
      "text/plain": [
       "0.0042"
      ]
     },
     "execution_count": 14,
     "metadata": {},
     "output_type": "execute_result"
    }
   ],
   "source": [
    "4.2e-3"
   ]
  },
  {
   "cell_type": "code",
   "execution_count": 15,
   "id": "12362b39",
   "metadata": {},
   "outputs": [
    {
     "data": {
      "text/plain": [
       "(2+3j)"
      ]
     },
     "execution_count": 15,
     "metadata": {},
     "output_type": "execute_result"
    }
   ],
   "source": [
    "2+3j"
   ]
  },
  {
   "cell_type": "code",
   "execution_count": 16,
   "id": "1e7026bf",
   "metadata": {},
   "outputs": [
    {
     "data": {
      "text/plain": [
       "complex"
      ]
     },
     "execution_count": 16,
     "metadata": {},
     "output_type": "execute_result"
    }
   ],
   "source": [
    "type(2+3j)"
   ]
  },
  {
   "cell_type": "code",
   "execution_count": 17,
   "id": "a10ed254",
   "metadata": {},
   "outputs": [
    {
     "name": "stdout",
     "output_type": "stream",
     "text": [
      "I am a string\n"
     ]
    }
   ],
   "source": [
    "print(\"I am a string\")"
   ]
  },
  {
   "cell_type": "code",
   "execution_count": 18,
   "id": "13fdc09e",
   "metadata": {},
   "outputs": [
    {
     "data": {
      "text/plain": [
       "str"
      ]
     },
     "execution_count": 18,
     "metadata": {},
     "output_type": "execute_result"
    }
   ],
   "source": [
    "type(\"Im a string\")"
   ]
  },
  {
   "cell_type": "code",
   "execution_count": 19,
   "id": "789d461b",
   "metadata": {},
   "outputs": [
    {
     "name": "stdout",
     "output_type": "stream",
     "text": [
      "This string contain a single(') quotation mark\n"
     ]
    }
   ],
   "source": [
    "print(\"This string contain a single(') quotation mark\")"
   ]
  },
  {
   "cell_type": "code",
   "execution_count": 20,
   "id": "698d2328",
   "metadata": {},
   "outputs": [
    {
     "ename": "SyntaxError",
     "evalue": "unterminated string literal (detected at line 1) (1425576161.py, line 1)",
     "output_type": "error",
     "traceback": [
      "  \u001b[36mCell\u001b[39m\u001b[36m \u001b[39m\u001b[32mIn[20]\u001b[39m\u001b[32m, line 1\u001b[39m\n\u001b[31m    \u001b[39m\u001b[31mprint('Thisw string contain a single(') quotation mark')\u001b[39m\n                                                          ^\n\u001b[31mSyntaxError\u001b[39m\u001b[31m:\u001b[39m unterminated string literal (detected at line 1)\n"
     ]
    }
   ],
   "source": [
    "print('Thisw string contain a single(') quotation mark')"
   ]
  },
  {
   "cell_type": "code",
   "execution_count": 21,
   "id": "f83d275b",
   "metadata": {},
   "outputs": [
    {
     "name": "stdout",
     "output_type": "stream",
     "text": [
      "This sstrig contain a single(')quotation mark\n"
     ]
    }
   ],
   "source": [
    "print('This sstrig contain a single(\\')quotation mark')"
   ]
  },
  {
   "cell_type": "code",
   "execution_count": 23,
   "id": "b93b2de6",
   "metadata": {},
   "outputs": [
    {
     "name": "stdout",
     "output_type": "stream",
     "text": [
      "abc\n"
     ]
    }
   ],
   "source": [
    "print(\"a\\\n",
    "b\\\n",
    "c\")"
   ]
  },
  {
   "cell_type": "code",
   "execution_count": 24,
   "id": "472de420",
   "metadata": {},
   "outputs": [
    {
     "name": "stdout",
     "output_type": "stream",
     "text": [
      "food\\bar\n"
     ]
    }
   ],
   "source": [
    "print(\"food\\\\bar\")"
   ]
  },
  {
   "cell_type": "code",
   "execution_count": 27,
   "id": "ff0fbdc1",
   "metadata": {},
   "outputs": [
    {
     "name": "stdout",
     "output_type": "stream",
     "text": [
      "food\tbar\n"
     ]
    }
   ],
   "source": [
    "print('food\\tbar')"
   ]
  },
  {
   "cell_type": "code",
   "execution_count": 28,
   "id": "6378f163",
   "metadata": {},
   "outputs": [
    {
     "name": "stdout",
     "output_type": "stream",
     "text": [
      "aaa\n"
     ]
    }
   ],
   "source": [
    "print(\"a\\141\\x61\")"
   ]
  },
  {
   "cell_type": "code",
   "execution_count": 37,
   "id": "d108a72a",
   "metadata": {},
   "outputs": [
    {
     "name": "stdout",
     "output_type": "stream",
     "text": [
      " ℩ ℶ\n"
     ]
    }
   ],
   "source": [
    "print(' \\u2129 \\u2136')"
   ]
  },
  {
   "cell_type": "code",
   "execution_count": 38,
   "id": "978c3f2d",
   "metadata": {},
   "outputs": [
    {
     "name": "stdout",
     "output_type": "stream",
     "text": [
      "foo\n",
      "bar\n"
     ]
    }
   ],
   "source": [
    "print(\"foo\\nbar\")"
   ]
  },
  {
   "cell_type": "code",
   "execution_count": 39,
   "id": "9a3200ae",
   "metadata": {},
   "outputs": [
    {
     "name": "stdout",
     "output_type": "stream",
     "text": [
      "foo\\nbar\n"
     ]
    }
   ],
   "source": [
    "print(r'foo\\nbar')"
   ]
  },
  {
   "cell_type": "code",
   "execution_count": 40,
   "id": "531f90f1",
   "metadata": {},
   "outputs": [
    {
     "name": "stdout",
     "output_type": "stream",
     "text": [
      "foo\\\\nbar\n"
     ]
    }
   ],
   "source": [
    "print(R\"foo\\\\nbar\")"
   ]
  },
  {
   "cell_type": "code",
   "execution_count": 41,
   "id": "528aecb7",
   "metadata": {},
   "outputs": [
    {
     "name": "stdout",
     "output_type": "stream",
     "text": [
      "foo\\bar\n"
     ]
    }
   ],
   "source": [
    "print(\"foo\\\\bar\")"
   ]
  },
  {
   "cell_type": "code",
   "execution_count": 42,
   "id": "7b66a191",
   "metadata": {},
   "outputs": [
    {
     "name": "stdout",
     "output_type": "stream",
     "text": [
      "this string has single(') and double(\") quotes.\n"
     ]
    }
   ],
   "source": [
    "print('''this string has single(') and double(\") quotes.''')"
   ]
  },
  {
   "cell_type": "code",
   "execution_count": 44,
   "id": "0d63d8fd",
   "metadata": {},
   "outputs": [
    {
     "name": "stdout",
     "output_type": "stream",
     "text": [
      "this is\n",
      "a multi \n",
      "line \n",
      "string\n"
     ]
    }
   ],
   "source": [
    "print(\"\"\"this is\n",
    "a multi \n",
    "line \n",
    "string\"\"\")"
   ]
  },
  {
   "cell_type": "code",
   "execution_count": 45,
   "id": "0f9b4030",
   "metadata": {},
   "outputs": [
    {
     "data": {
      "text/plain": [
       "bool"
      ]
     },
     "execution_count": 45,
     "metadata": {},
     "output_type": "execute_result"
    }
   ],
   "source": [
    "type(False)"
   ]
  },
  {
   "cell_type": "code",
   "execution_count": 46,
   "id": "74935056",
   "metadata": {},
   "outputs": [
    {
     "data": {
      "text/plain": [
       "bool"
      ]
     },
     "execution_count": 46,
     "metadata": {},
     "output_type": "execute_result"
    }
   ],
   "source": [
    "type(True)"
   ]
  },
  {
   "cell_type": "code",
   "execution_count": 47,
   "id": "e56351c9",
   "metadata": {},
   "outputs": [
    {
     "name": "stdout",
     "output_type": "stream",
     "text": [
      "100\n"
     ]
    }
   ],
   "source": [
    "n=100\n",
    "print(n)"
   ]
  },
  {
   "cell_type": "code",
   "execution_count": 48,
   "id": "56dd7b8c",
   "metadata": {},
   "outputs": [
    {
     "data": {
      "text/plain": [
       "200"
      ]
     },
     "execution_count": 48,
     "metadata": {},
     "output_type": "execute_result"
    }
   ],
   "source": [
    "n=200\n",
    "n"
   ]
  },
  {
   "cell_type": "code",
   "execution_count": 49,
   "id": "03a8d583",
   "metadata": {},
   "outputs": [
    {
     "name": "stdout",
     "output_type": "stream",
     "text": [
      "100 100 100\n"
     ]
    }
   ],
   "source": [
    "a=b=c=100\n",
    "print(a,b,c)"
   ]
  },
  {
   "cell_type": "code",
   "execution_count": 50,
   "id": "a85faa66",
   "metadata": {},
   "outputs": [
    {
     "name": "stdout",
     "output_type": "stream",
     "text": [
      "0.5\n"
     ]
    }
   ],
   "source": [
    "var=.5\n",
    "print(var)"
   ]
  },
  {
   "cell_type": "code",
   "execution_count": 51,
   "id": "06aa8708",
   "metadata": {},
   "outputs": [
    {
     "name": "stdout",
     "output_type": "stream",
     "text": [
      "I am a string\n"
     ]
    }
   ],
   "source": [
    "var=\"I am a string\"\n",
    "print(var)"
   ]
  },
  {
   "cell_type": "code",
   "execution_count": 52,
   "id": "fb297a07",
   "metadata": {},
   "outputs": [
    {
     "name": "stdout",
     "output_type": "stream",
     "text": [
      "100\n"
     ]
    },
    {
     "data": {
      "text/plain": [
       "int"
      ]
     },
     "execution_count": 52,
     "metadata": {},
     "output_type": "execute_result"
    }
   ],
   "source": [
    "n=100\n",
    "print(n)\n",
    "type(n)"
   ]
  },
  {
   "cell_type": "code",
   "execution_count": 53,
   "id": "71487fb1",
   "metadata": {},
   "outputs": [
    {
     "name": "stdout",
     "output_type": "stream",
     "text": [
      "140716381261832\n",
      "140716381261832\n"
     ]
    }
   ],
   "source": [
    "m=100\n",
    "n=m\n",
    "print(id(n))\n",
    "print(id(m))"
   ]
  },
  {
   "cell_type": "code",
   "execution_count": 54,
   "id": "cb57c56b",
   "metadata": {},
   "outputs": [
    {
     "name": "stdout",
     "output_type": "stream",
     "text": [
      "Bob 45 True\n"
     ]
    }
   ],
   "source": [
    "name=\"Bob\"\n",
    "age=45\n",
    "w2=True\n",
    "print(name,age,w2)"
   ]
  },
  {
   "cell_type": "code",
   "execution_count": 55,
   "id": "d199abb0",
   "metadata": {},
   "outputs": [
    {
     "ename": "SyntaxError",
     "evalue": "invalid decimal literal (3257300705.py, line 1)",
     "output_type": "error",
     "traceback": [
      "  \u001b[36mCell\u001b[39m\u001b[36m \u001b[39m\u001b[32mIn[55]\u001b[39m\u001b[32m, line 1\u001b[39m\n\u001b[31m    \u001b[39m\u001b[31m546534_t=Fale\u001b[39m\n          ^\n\u001b[31mSyntaxError\u001b[39m\u001b[31m:\u001b[39m invalid decimal literal\n"
     ]
    }
   ],
   "source": [
    "546534_t=Fale\n"
   ]
  },
  {
   "cell_type": "code",
   "execution_count": 56,
   "id": "6a51c66b",
   "metadata": {},
   "outputs": [
    {
     "name": "stdout",
     "output_type": "stream",
     "text": [
      "['False', 'None', 'True', 'and', 'as', 'assert', 'async', 'await', 'break', 'class', 'continue', 'def', 'del', 'elif', 'else', 'except', 'finally', 'for', 'from', 'global', 'if', 'import', 'in', 'is', 'lambda', 'nonlocal', 'not', 'or', 'pass', 'raise', 'return', 'try', 'while', 'with', 'yield']\n"
     ]
    }
   ],
   "source": [
    "import keyword\n",
    "print(keyword.kwlist)"
   ]
  },
  {
   "cell_type": "code",
   "execution_count": 57,
   "id": "8c0d4a78",
   "metadata": {},
   "outputs": [
    {
     "name": "stdout",
     "output_type": "stream",
     "text": [
      "30\n"
     ]
    }
   ],
   "source": [
    "a=10\n",
    "b=20\n",
    "print(a+b)"
   ]
  },
  {
   "cell_type": "code",
   "execution_count": 58,
   "id": "f01316f3",
   "metadata": {},
   "outputs": [
    {
     "data": {
      "text/plain": [
       "5"
      ]
     },
     "execution_count": 58,
     "metadata": {},
     "output_type": "execute_result"
    }
   ],
   "source": [
    "a=10\n",
    "b=5\n",
    "a-b"
   ]
  },
  {
   "cell_type": "code",
   "execution_count": 63,
   "id": "c3299080",
   "metadata": {},
   "outputs": [
    {
     "data": {
      "text/plain": [
       "-1"
      ]
     },
     "execution_count": 63,
     "metadata": {},
     "output_type": "execute_result"
    }
   ],
   "source": [
    "b=1\n",
    "-b"
   ]
  },
  {
   "cell_type": "code",
   "execution_count": 65,
   "id": "e69847f6",
   "metadata": {},
   "outputs": [
    {
     "name": "stdout",
     "output_type": "stream",
     "text": [
      "7\n",
      "1\n",
      "12\n",
      "1\n",
      "1.3333333333333333\n",
      "64\n",
      "-4\n",
      "-4\n"
     ]
    }
   ],
   "source": [
    "a=4\n",
    "b=3\n",
    "print(a+b)\n",
    "print(a-b)\n",
    "print(a*b)\n",
    "print(a%b)\n",
    "print(a/b)\n",
    "print(a**b)\n",
    "print(-a)\n",
    "a=-4\n",
    "print(+a)"
   ]
  },
  {
   "cell_type": "code",
   "execution_count": 66,
   "id": "94810901",
   "metadata": {},
   "outputs": [
    {
     "data": {
      "text/plain": [
       "2.5"
      ]
     },
     "execution_count": 66,
     "metadata": {},
     "output_type": "execute_result"
    }
   ],
   "source": [
    "10/4"
   ]
  },
  {
   "cell_type": "code",
   "execution_count": 67,
   "id": "40d03b51",
   "metadata": {},
   "outputs": [
    {
     "data": {
      "text/plain": [
       "2"
      ]
     },
     "execution_count": 67,
     "metadata": {},
     "output_type": "execute_result"
    }
   ],
   "source": [
    "10//4"
   ]
  },
  {
   "cell_type": "code",
   "execution_count": 68,
   "id": "246b23dd",
   "metadata": {},
   "outputs": [
    {
     "data": {
      "text/plain": [
       "-3"
      ]
     },
     "execution_count": 68,
     "metadata": {},
     "output_type": "execute_result"
    }
   ],
   "source": [
    "10//-4"
   ]
  },
  {
   "cell_type": "code",
   "execution_count": 70,
   "id": "70bf16ba",
   "metadata": {},
   "outputs": [
    {
     "data": {
      "text/plain": [
       "-2.5"
      ]
     },
     "execution_count": 70,
     "metadata": {},
     "output_type": "execute_result"
    }
   ],
   "source": [
    "10/-4"
   ]
  },
  {
   "cell_type": "code",
   "execution_count": 72,
   "id": "233f31a9",
   "metadata": {},
   "outputs": [
    {
     "data": {
      "text/plain": [
       "1"
      ]
     },
     "execution_count": 72,
     "metadata": {},
     "output_type": "execute_result"
    }
   ],
   "source": [
    "19//10"
   ]
  },
  {
   "cell_type": "code",
   "execution_count": 73,
   "id": "83b1678d",
   "metadata": {},
   "outputs": [
    {
     "data": {
      "text/plain": [
       "False"
      ]
     },
     "execution_count": 73,
     "metadata": {},
     "output_type": "execute_result"
    }
   ],
   "source": [
    "a=10\n",
    "b=20\n",
    "a==b"
   ]
  },
  {
   "cell_type": "code",
   "execution_count": 74,
   "id": "e4c66f2d",
   "metadata": {},
   "outputs": [
    {
     "data": {
      "text/plain": [
       "True"
      ]
     },
     "execution_count": 74,
     "metadata": {},
     "output_type": "execute_result"
    }
   ],
   "source": [
    "a!=b"
   ]
  },
  {
   "cell_type": "code",
   "execution_count": 75,
   "id": "3ecf3631",
   "metadata": {},
   "outputs": [
    {
     "data": {
      "text/plain": [
       "False"
      ]
     },
     "execution_count": 75,
     "metadata": {},
     "output_type": "execute_result"
    }
   ],
   "source": [
    "a>=b"
   ]
  },
  {
   "cell_type": "code",
   "execution_count": 76,
   "id": "62cb839e",
   "metadata": {},
   "outputs": [
    {
     "data": {
      "text/plain": [
       "True"
      ]
     },
     "execution_count": 76,
     "metadata": {},
     "output_type": "execute_result"
    }
   ],
   "source": [
    "a<=b"
   ]
  },
  {
   "cell_type": "code",
   "execution_count": 77,
   "id": "75713ed7",
   "metadata": {},
   "outputs": [
    {
     "name": "stdout",
     "output_type": "stream",
     "text": [
      "a and b is : False\n",
      "a or b is : True\n",
      "not a is : False\n"
     ]
    }
   ],
   "source": [
    "a=True\n",
    "b=False\n",
    "print(\"a and b is :\", a and b)\n",
    "print(\"a or b is :\", a or b)\n",
    "print(\"not a is :\", not a )"
   ]
  },
  {
   "cell_type": "code",
   "execution_count": 81,
   "id": "ae36d024",
   "metadata": {},
   "outputs": [
    {
     "data": {
      "text/plain": [
       "True"
      ]
     },
     "execution_count": 81,
     "metadata": {},
     "output_type": "execute_result"
    }
   ],
   "source": [
    "a=\"bc\"\n",
    "b=\"bcd\"\n",
    "a in b"
   ]
  },
  {
   "cell_type": "code",
   "execution_count": 82,
   "id": "4234aaae",
   "metadata": {},
   "outputs": [
    {
     "data": {
      "text/plain": [
       "0"
      ]
     },
     "execution_count": 82,
     "metadata": {},
     "output_type": "execute_result"
    }
   ],
   "source": [
    "a=8\n",
    "b=4\n",
    "a&b"
   ]
  },
  {
   "cell_type": "code",
   "execution_count": 83,
   "id": "1a6ee4c5",
   "metadata": {},
   "outputs": [
    {
     "data": {
      "text/plain": [
       "12"
      ]
     },
     "execution_count": 83,
     "metadata": {},
     "output_type": "execute_result"
    }
   ],
   "source": [
    "a|b"
   ]
  },
  {
   "cell_type": "code",
   "execution_count": 84,
   "id": "a41b0736",
   "metadata": {},
   "outputs": [
    {
     "data": {
      "text/plain": [
       "3"
      ]
     },
     "execution_count": 84,
     "metadata": {},
     "output_type": "execute_result"
    }
   ],
   "source": [
    "a=7\n",
    "b=4\n",
    "a^b"
   ]
  },
  {
   "cell_type": "code",
   "execution_count": 92,
   "id": "fea7c021",
   "metadata": {},
   "outputs": [
    {
     "name": "stdout",
     "output_type": "stream",
     "text": [
      "-0b1000\n",
      "-8\n"
     ]
    }
   ],
   "source": [
    "print(bin(~a)[:])\n",
    "print(~a)"
   ]
  },
  {
   "cell_type": "code",
   "execution_count": null,
   "id": "b64747ca",
   "metadata": {},
   "outputs": [],
   "source": []
  }
 ],
 "metadata": {
  "kernelspec": {
   "display_name": ".venv",
   "language": "python",
   "name": "python3"
  },
  "language_info": {
   "codemirror_mode": {
    "name": "ipython",
    "version": 3
   },
   "file_extension": ".py",
   "mimetype": "text/x-python",
   "name": "python",
   "nbconvert_exporter": "python",
   "pygments_lexer": "ipython3",
   "version": "3.13.5"
  }
 },
 "nbformat": 4,
 "nbformat_minor": 5
}
